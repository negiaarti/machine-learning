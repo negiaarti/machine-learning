{
 "cells": [
  {
   "cell_type": "code",
   "execution_count": 1,
   "id": "2d88bc4e-a82a-402d-a801-65a33f1ebb21",
   "metadata": {},
   "outputs": [],
   "source": [
    "import pandas as pd\n",
    "import numpy as np\n",
    "import matplotlib.pyplot as plt\n",
    "import seaborn as sns\n",
    "from sklearn.model_selection import train_test_split\n",
    "from sklearn.preprocessing import StandardScaler, LabelEncoder\n",
    "from sklearn.impute import SimpleImputer\n",
    "from sklearn.linear_model import LinearRegression\n",
    "from sklearn.tree import DecisionTreeRegressor\n",
    "from sklearn.ensemble import RandomForestRegressor, GradientBoostingRegressor\n",
    "from sklearn.metrics import mean_absolute_error, mean_squared_error, r2_score\n",
    "import pickle\n"
   ]
  },
  {
   "cell_type": "code",
   "execution_count": 2,
   "id": "52fb730b-80c6-459a-8869-d3d64b21e591",
   "metadata": {},
   "outputs": [],
   "source": [
    "file_path = 'C:/Users/aarti/Downloads/Salary Prediction of Data Professions.csv'\n",
    "data = pd.read_csv(file_path)"
   ]
  },
  {
   "cell_type": "code",
   "execution_count": 3,
   "id": "73071d39-9b83-4e75-9ce6-69a869ae016d",
   "metadata": {},
   "outputs": [
    {
     "name": "stdout",
     "output_type": "stream",
     "text": [
      "<class 'pandas.core.frame.DataFrame'>\n",
      "RangeIndex: 2639 entries, 0 to 2638\n",
      "Data columns (total 13 columns):\n",
      " #   Column            Non-Null Count  Dtype  \n",
      "---  ------            --------------  -----  \n",
      " 0   FIRST NAME        2639 non-null   object \n",
      " 1   LAST NAME         2637 non-null   object \n",
      " 2   SEX               2639 non-null   object \n",
      " 3   DOJ               2638 non-null   object \n",
      " 4   CURRENT DATE      2639 non-null   object \n",
      " 5   DESIGNATION       2639 non-null   object \n",
      " 6   AGE               2636 non-null   float64\n",
      " 7   SALARY            2639 non-null   int64  \n",
      " 8   UNIT              2639 non-null   object \n",
      " 9   LEAVES USED       2636 non-null   float64\n",
      " 10  LEAVES REMAINING  2637 non-null   float64\n",
      " 11  RATINGS           2637 non-null   float64\n",
      " 12  PAST EXP          2639 non-null   int64  \n",
      "dtypes: float64(4), int64(2), object(7)\n",
      "memory usage: 268.2+ KB\n",
      "None\n"
     ]
    }
   ],
   "source": [
    "print(data.info())"
   ]
  },
  {
   "cell_type": "code",
   "execution_count": 4,
   "id": "cc66c268-c81c-4150-bfe7-1a50fea542e7",
   "metadata": {},
   "outputs": [
    {
     "name": "stdout",
     "output_type": "stream",
     "text": [
      "               AGE         SALARY  LEAVES USED  LEAVES REMAINING      RATINGS  \\\n",
      "count  2636.000000    2639.000000  2636.000000       2637.000000  2637.000000   \n",
      "mean     24.756449   58136.678287    22.501517          7.503223     3.486159   \n",
      "std       3.908228   36876.956944     4.604469          4.603193     1.114933   \n",
      "min      21.000000   40001.000000    15.000000          0.000000     2.000000   \n",
      "25%      22.000000   43418.000000    19.000000          4.000000     2.000000   \n",
      "50%      24.000000   46781.000000    22.000000          8.000000     3.000000   \n",
      "75%      25.000000   51401.500000    26.000000         11.000000     4.000000   \n",
      "max      45.000000  388112.000000    30.000000         15.000000     5.000000   \n",
      "\n",
      "          PAST EXP  \n",
      "count  2639.000000  \n",
      "mean      1.566881  \n",
      "std       2.728416  \n",
      "min       0.000000  \n",
      "25%       0.000000  \n",
      "50%       1.000000  \n",
      "75%       2.000000  \n",
      "max      23.000000  \n"
     ]
    }
   ],
   "source": [
    "print(data.describe())"
   ]
  },
  {
   "cell_type": "code",
   "execution_count": null,
   "id": "b8d07af6-83cd-4bfa-99a4-320e6f0af991",
   "metadata": {},
   "outputs": [],
   "source": [
    "#handle missing values\n",
    "\n"
   ]
  },
  {
   "cell_type": "code",
   "execution_count": 5,
   "id": "14dd8b98-1940-425f-9dad-b64e52c24cb7",
   "metadata": {},
   "outputs": [],
   "source": [
    "imputer = SimpleImputer(strategy='mean')\n",
    "data['AGE'] = imputer.fit_transform(data[['AGE']])\n",
    "data['LEAVES USED'] = imputer.fit_transform(data[['LEAVES USED']])\n",
    "data['RATINGS'] = imputer.fit_transform(data[['RATINGS']])"
   ]
  },
  {
   "cell_type": "code",
   "execution_count": 6,
   "id": "7f90f255-71b4-45e4-9a8b-1b6978907e33",
   "metadata": {},
   "outputs": [],
   "source": [
    "data = data.dropna()"
   ]
  },
  {
   "cell_type": "code",
   "execution_count": null,
   "id": "d48d2dd0-623c-444c-8055-6b9e2e5d50c7",
   "metadata": {},
   "outputs": [],
   "source": [
    "#encode categorical variables"
   ]
  },
  {
   "cell_type": "code",
   "execution_count": 8,
   "id": "8f2245b9-9f4f-464f-8a60-ee5cc5449db6",
   "metadata": {},
   "outputs": [],
   "source": [
    "label_encoder = LabelEncoder()\n",
    "data['SEX'] = label_encoder.fit_transform(data['SEX'])\n",
    "data['DESIGNATION'] = label_encoder.fit_transform(data['DESIGNATION'])\n",
    "data['UNIT'] = label_encoder.fit_transform(data['UNIT'])"
   ]
  },
  {
   "cell_type": "code",
   "execution_count": null,
   "id": "13717db5-7bfa-4d81-a416-7084e7e9240b",
   "metadata": {},
   "outputs": [],
   "source": [
    "#extract years of experience from DOJ"
   ]
  },
  {
   "cell_type": "code",
   "execution_count": 10,
   "id": "851a852f-ecd7-4be5-8a99-723c9ffb54c1",
   "metadata": {},
   "outputs": [],
   "source": [
    "data['DOJ'] = pd.to_datetime(data['DOJ'], errors='coerce')\n",
    "data['CURRENT DATE'] = pd.to_datetime(data['CURRENT DATE'], errors='coerce')\n",
    "data['EXPERIENCE'] = (data['CURRENT DATE'] - data['DOJ']).dt.days / 365"
   ]
  },
  {
   "cell_type": "code",
   "execution_count": 11,
   "id": "60c05499-a4c6-43f1-8a94-67021b8b8b93",
   "metadata": {},
   "outputs": [],
   "source": [
    "data = data.drop(columns=['FIRST NAME', 'LAST NAME', 'DOJ', 'CURRENT DATE'])"
   ]
  },
  {
   "cell_type": "code",
   "execution_count": null,
   "id": "2e578cf7-00a7-485c-9d50-8ff1403af82a",
   "metadata": {},
   "outputs": [],
   "source": [
    "#define features and target variable"
   ]
  },
  {
   "cell_type": "code",
   "execution_count": 12,
   "id": "794097dd-7b99-434c-b876-0735621b8581",
   "metadata": {},
   "outputs": [],
   "source": [
    "X = data.drop(columns=['SALARY'])\n",
    "y = data['SALARY']"
   ]
  },
  {
   "cell_type": "code",
   "execution_count": null,
   "id": "9a56c227-6e69-4e21-acd0-9d9aa680932f",
   "metadata": {},
   "outputs": [],
   "source": [
    "#split the data "
   ]
  },
  {
   "cell_type": "code",
   "execution_count": 13,
   "id": "f3486486-dcdd-4a4a-a460-14505b06aa33",
   "metadata": {},
   "outputs": [],
   "source": [
    "X_train, X_test, y_train, y_test = train_test_split(X, y, test_size=0.2, random_state=42)"
   ]
  },
  {
   "cell_type": "code",
   "execution_count": 14,
   "id": "1aaeddeb-2e8c-4406-9510-f84130126501",
   "metadata": {},
   "outputs": [],
   "source": [
    "scaler = StandardScaler()\n",
    "X_train = scaler.fit_transform(X_train)\n",
    "X_test = scaler.transform(X_test)"
   ]
  },
  {
   "cell_type": "code",
   "execution_count": null,
   "id": "f987abd1-f3dc-48f4-8c75-d8e81785abb1",
   "metadata": {},
   "outputs": [],
   "source": [
    "#initializw models"
   ]
  },
  {
   "cell_type": "code",
   "execution_count": 15,
   "id": "5ad77694-c21c-4f72-bdbb-3b6af1aa3e21",
   "metadata": {},
   "outputs": [],
   "source": [
    "models = {\n",
    "    'Linear Regression': LinearRegression(),\n",
    "    'Decision Tree': DecisionTreeRegressor(),\n",
    "    'Random Forest': RandomForestRegressor(),\n",
    "    'Gradient Boosting': GradientBoostingRegressor()\n",
    "}"
   ]
  },
  {
   "cell_type": "code",
   "execution_count": null,
   "id": "b9fcd3b1-cb46-4f2c-acc8-233b5da46a44",
   "metadata": {},
   "outputs": [],
   "source": [
    "#train and evaluate models"
   ]
  },
  {
   "cell_type": "code",
   "execution_count": 16,
   "id": "669c2560-75b7-495e-8a6f-927510e479ed",
   "metadata": {},
   "outputs": [
    {
     "name": "stdout",
     "output_type": "stream",
     "text": [
      "Linear Regression Performance:\n",
      "Mean Absolute Error (MAE): 11143.528027190285\n",
      "Mean Squared Error (MSE): 359466072.32799834\n",
      "Root Mean Squared Error (RMSE): 18959.590510556875\n",
      "R-squared (R2): 0.8157081503462168\n",
      "\n",
      "Decision Tree Performance:\n",
      "Mean Absolute Error (MAE): 5213.299810246679\n",
      "Mean Squared Error (MSE): 109344383.4516129\n",
      "Root Mean Squared Error (RMSE): 10456.78647824526\n",
      "R-squared (R2): 0.943941083104046\n",
      "\n",
      "Random Forest Performance:\n",
      "Mean Absolute Error (MAE): 4338.528178368121\n",
      "Mean Squared Error (MSE): 76199043.26424882\n",
      "Root Mean Squared Error (RMSE): 8729.20633644599\n",
      "R-squared (R2): 0.9609341083733668\n",
      "\n",
      "Gradient Boosting Performance:\n",
      "Mean Absolute Error (MAE): 4762.92225596887\n",
      "Mean Squared Error (MSE): 106354338.43250021\n",
      "Root Mean Squared Error (RMSE): 10312.823979516968\n",
      "R-squared (R2): 0.9454740259032138\n",
      "\n"
     ]
    }
   ],
   "source": [
    "for name, model in models.items():\n",
    "    model.fit(X_train, y_train)\n",
    "    y_pred = model.predict(X_test)\n",
    "    print(f\"{name} Performance:\")\n",
    "    print(f\"Mean Absolute Error (MAE): {mean_absolute_error(y_test, y_pred)}\")\n",
    "    print(f\"Mean Squared Error (MSE): {mean_squared_error(y_test, y_pred)}\")\n",
    "    print(f\"Root Mean Squared Error (RMSE): {np.sqrt(mean_squared_error(y_test, y_pred))}\")\n",
    "    print(f\"R-squared (R2): {r2_score(y_test, y_pred)}\\n\")\n"
   ]
  },
  {
   "cell_type": "code",
   "execution_count": null,
   "id": "679c7f1c-06a9-478a-ab3e-06b0bdeee3e6",
   "metadata": {},
   "outputs": [],
   "source": [
    "#save the best model"
   ]
  },
  {
   "cell_type": "code",
   "execution_count": 24,
   "id": "0dcf4ec7-47b3-4bb6-9f2a-0bbfa1857055",
   "metadata": {},
   "outputs": [],
   "source": [
    "best_model = GradientBoostingRegressor()\n",
    "best_model.fit(X_train, y_train)\n",
    "pickle.dump(best_model, open('salary_prediction_model.pkl', 'wb'))\n"
   ]
  },
  {
   "cell_type": "code",
   "execution_count": 25,
   "id": "785895a0-07f4-40a3-9c15-e99efe5c2590",
   "metadata": {},
   "outputs": [
    {
     "name": "stdout",
     "output_type": "stream",
     "text": [
      "Predicted Salary: 112559.04793527926\n"
     ]
    }
   ],
   "source": [
    "# Load the model and make predictions\n",
    "loaded_model = pickle.load(open('salary_prediction_model.pkl', 'rb'))\n",
    "sample_data = X_test[0].reshape(1, -1)\n",
    "predicted_salary = loaded_model.predict(sample_data)\n",
    "print(f\"Predicted Salary: {predicted_salary[0]}\")\n"
   ]
  },
  {
   "cell_type": "code",
   "execution_count": null,
   "id": "899da437-702c-474d-ac9e-cea63ae45121",
   "metadata": {},
   "outputs": [],
   "source": []
  },
  {
   "cell_type": "code",
   "execution_count": null,
   "id": "fd27c1a7-c6c5-4b27-aadb-86a58102925d",
   "metadata": {},
   "outputs": [],
   "source": []
  }
 ],
 "metadata": {
  "kernelspec": {
   "display_name": "Python 3 (ipykernel)",
   "language": "python",
   "name": "python3"
  },
  "language_info": {
   "codemirror_mode": {
    "name": "ipython",
    "version": 3
   },
   "file_extension": ".py",
   "mimetype": "text/x-python",
   "name": "python",
   "nbconvert_exporter": "python",
   "pygments_lexer": "ipython3",
   "version": "3.12.4"
  }
 },
 "nbformat": 4,
 "nbformat_minor": 5
}
